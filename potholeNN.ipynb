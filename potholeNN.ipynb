{
 "cells": [
  {
   "cell_type": "code",
   "execution_count": 7,
   "metadata": {},
   "outputs": [
    {
     "name": "stdout",
     "output_type": "stream",
     "text": [
      "Train on 1224 samples, validate on 136 samples\n",
      "Epoch 1/10\n",
      "1224/1224 [==============================] - 7s 5ms/sample - loss: 0.8556 - acc: 0.5237 - val_loss: 0.6660 - val_acc: 0.7132\n",
      "Epoch 2/10\n",
      "1224/1224 [==============================] - 6s 5ms/sample - loss: 0.5732 - acc: 0.7141 - val_loss: 0.4716 - val_acc: 0.7868\n",
      "Epoch 3/10\n",
      "1224/1224 [==============================] - 6s 5ms/sample - loss: 0.4049 - acc: 0.8154 - val_loss: 0.3735 - val_acc: 0.8676\n",
      "Epoch 4/10\n",
      "1224/1224 [==============================] - 7s 5ms/sample - loss: 0.3418 - acc: 0.8366 - val_loss: 0.2909 - val_acc: 0.8971\n",
      "Epoch 5/10\n",
      "1224/1224 [==============================] - 6s 5ms/sample - loss: 0.2283 - acc: 0.9183 - val_loss: 0.2155 - val_acc: 0.9191\n",
      "Epoch 6/10\n",
      "1224/1224 [==============================] - 7s 5ms/sample - loss: 0.1637 - acc: 0.9493 - val_loss: 0.2663 - val_acc: 0.8750\n",
      "Epoch 7/10\n",
      "1224/1224 [==============================] - 7s 5ms/sample - loss: 0.1461 - acc: 0.9518 - val_loss: 0.1493 - val_acc: 0.9485\n",
      "Epoch 8/10\n",
      "1224/1224 [==============================] - 7s 5ms/sample - loss: 0.0945 - acc: 0.9755 - val_loss: 0.1324 - val_acc: 0.9559\n",
      "Epoch 9/10\n",
      "1224/1224 [==============================] - 7s 5ms/sample - loss: 0.0506 - acc: 0.9935 - val_loss: 0.0831 - val_acc: 0.9706\n",
      "Epoch 10/10\n",
      "1224/1224 [==============================] - 7s 5ms/sample - loss: 0.0352 - acc: 0.9967 - val_loss: 0.0615 - val_acc: 0.9853\n"
     ]
    },
    {
     "data": {
      "text/plain": [
       "<tensorflow.python.keras.callbacks.History at 0x1b77244ab48>"
      ]
     },
     "execution_count": 7,
     "metadata": {},
     "output_type": "execute_result"
    }
   ],
   "source": [
    "import tensorflow as tf\n",
    "from tensorflow.keras.models import Sequential\n",
    "from tensorflow.keras.layers import Dense, Dropout, Activation, Flatten, Conv2D, MaxPooling2D\n",
    "import pickle\n",
    "\n",
    "X = pickle.load(open(\"X.pickle\", \"rb\"))\n",
    "y = pickle.load(open(\"y.pickle\", \"rb\"))\n",
    "\n",
    "X = X/255.0\n",
    "\n",
    "model = Sequential()\n",
    "\n",
    "model.add(Conv2D((64), (3,3), input_shape = X.shape[1:]))\n",
    "model.add(Activation(\"relu\"))\n",
    "model.add(MaxPooling2D(pool_size=(2,2)))\n",
    "\n",
    "model.add(Conv2D((64), (3,3)))\n",
    "model.add(Activation(\"relu\"))\n",
    "model.add(MaxPooling2D(pool_size=(2,2)))\n",
    "\n",
    "model.add(Flatten())\n",
    "model.add(Dense(64))\n",
    "model.add(Activation(\"relu\"))\n",
    "\n",
    "model.add(Dense(1))\n",
    "model.add(Activation('sigmoid'))\n",
    "\n",
    "model.compile(loss=\"binary_crossentropy\",\n",
    "             optimizer = 'adam',\n",
    "             metrics = ['accuracy'])\n",
    "model.fit(X, y, batch_size=64, validation_split=0.1, epochs = 10)\n"
   ]
  },
  {
   "cell_type": "code",
   "execution_count": null,
   "metadata": {},
   "outputs": [],
   "source": []
  }
 ],
 "metadata": {
  "kernelspec": {
   "display_name": "Python 3",
   "language": "python",
   "name": "python3"
  },
  "language_info": {
   "codemirror_mode": {
    "name": "ipython",
    "version": 3
   },
   "file_extension": ".py",
   "mimetype": "text/x-python",
   "name": "python",
   "nbconvert_exporter": "python",
   "pygments_lexer": "ipython3",
   "version": "3.7.5"
  }
 },
 "nbformat": 4,
 "nbformat_minor": 2
}
